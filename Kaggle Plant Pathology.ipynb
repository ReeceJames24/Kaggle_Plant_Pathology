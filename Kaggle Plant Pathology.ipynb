{
 "cells": [
  {
   "cell_type": "markdown",
   "id": "special-evanescence",
   "metadata": {},
   "source": [
    "This notebook is running on C Desktop although the data folder is placed in D. \n",
    "\n",
    "Make use of this root path when needed:\n",
    "\n",
    "__D:\\Kaggle Plant Path__"
   ]
  },
  {
   "cell_type": "code",
   "execution_count": 1,
   "id": "adjustable-cathedral",
   "metadata": {},
   "outputs": [],
   "source": [
    "import os\n",
    "\n",
    "import tensorflow as tf\n",
    "from tensorflow import keras\n",
    "from tensorflow.keras.preprocessing.image import ImageDataGenerator\n",
    "\n",
    "import pandas as pd\n",
    "import numpy as np\n",
    "\n",
    "import matplotlib as mpl\n",
    "import matplotlib.pyplot as plt\n",
    "\n",
    "\n",
    "from shutil import copyfile\n",
    "from shutil import copy2"
   ]
  },
  {
   "cell_type": "markdown",
   "id": "lasting-breakfast",
   "metadata": {},
   "source": [
    "## Data Preprocessing\n",
    "\n",
    "- ImageDataGenerator requires our images to be placed in subdirectories named after their respective labels. In our case, our images currently are unlabelled and are not divided into subdirectories. We are, however, given a csv file with the labels per image file.\n",
    "- We must first create subdirectories followed by a loop that places each training image in its corrrect subdirectory."
   ]
  },
  {
   "cell_type": "code",
   "execution_count": 2,
   "id": "rolled-symphony",
   "metadata": {},
   "outputs": [
    {
     "data": {
      "text/html": [
       "<div>\n",
       "<style scoped>\n",
       "    .dataframe tbody tr th:only-of-type {\n",
       "        vertical-align: middle;\n",
       "    }\n",
       "\n",
       "    .dataframe tbody tr th {\n",
       "        vertical-align: top;\n",
       "    }\n",
       "\n",
       "    .dataframe thead th {\n",
       "        text-align: right;\n",
       "    }\n",
       "</style>\n",
       "<table border=\"1\" class=\"dataframe\">\n",
       "  <thead>\n",
       "    <tr style=\"text-align: right;\">\n",
       "      <th></th>\n",
       "      <th>image</th>\n",
       "      <th>labels</th>\n",
       "    </tr>\n",
       "  </thead>\n",
       "  <tbody>\n",
       "    <tr>\n",
       "      <th>0</th>\n",
       "      <td>800113bb65efe69e.jpg</td>\n",
       "      <td>healthy</td>\n",
       "    </tr>\n",
       "    <tr>\n",
       "      <th>1</th>\n",
       "      <td>8002cb321f8bfcdf.jpg</td>\n",
       "      <td>scab frog_eye_leaf_spot complex</td>\n",
       "    </tr>\n",
       "    <tr>\n",
       "      <th>2</th>\n",
       "      <td>80070f7fb5e2ccaa.jpg</td>\n",
       "      <td>scab</td>\n",
       "    </tr>\n",
       "    <tr>\n",
       "      <th>3</th>\n",
       "      <td>80077517781fb94f.jpg</td>\n",
       "      <td>scab</td>\n",
       "    </tr>\n",
       "    <tr>\n",
       "      <th>4</th>\n",
       "      <td>800cbf0ff87721f8.jpg</td>\n",
       "      <td>complex</td>\n",
       "    </tr>\n",
       "  </tbody>\n",
       "</table>\n",
       "</div>"
      ],
      "text/plain": [
       "                  image                           labels\n",
       "0  800113bb65efe69e.jpg                          healthy\n",
       "1  8002cb321f8bfcdf.jpg  scab frog_eye_leaf_spot complex\n",
       "2  80070f7fb5e2ccaa.jpg                             scab\n",
       "3  80077517781fb94f.jpg                             scab\n",
       "4  800cbf0ff87721f8.jpg                          complex"
      ]
     },
     "execution_count": 2,
     "metadata": {},
     "output_type": "execute_result"
    }
   ],
   "source": [
    "#Let's get the labels by first importing the label csv\n",
    "root = 'D:\\Kaggle Plant Path'\n",
    "label_csv = os.path.join(root,'train.csv')\n",
    "df = pd.read_csv(label_csv)\n",
    "df.head()"
   ]
  },
  {
   "cell_type": "code",
   "execution_count": 3,
   "id": "brazilian-tsunami",
   "metadata": {},
   "outputs": [
    {
     "data": {
      "text/plain": [
       "['cider_apple_rust',\n",
       " 'complex',\n",
       " 'frog_eye_leaf_spot',\n",
       " 'frog_eye_leaf_spot complex',\n",
       " 'healthy',\n",
       " 'powdery_mildew',\n",
       " 'powdery_mildew complex',\n",
       " 'rust complex',\n",
       " 'rust frog_eye_leaf_spot',\n",
       " 'scab',\n",
       " 'scab frog_eye_leaf_spot',\n",
       " 'scab frog_eye_leaf_spot complex']"
      ]
     },
     "execution_count": 3,
     "metadata": {},
     "output_type": "execute_result"
    }
   ],
   "source": [
    "a = list(df['labels'])\n",
    "labels = list(np.unique(a))\n",
    "labels"
   ]
  },
  {
   "cell_type": "code",
   "execution_count": 4,
   "id": "lasting-contribution",
   "metadata": {},
   "outputs": [
    {
     "name": "stdout",
     "output_type": "stream",
     "text": [
      "D:\\Kaggle Plant Path\\plants-training created\n",
      "D:\\Kaggle Plant Path\\plants-training\\cider_apple_rust created\n",
      "D:\\Kaggle Plant Path\\plants-training\\complex created\n",
      "D:\\Kaggle Plant Path\\plants-training\\frog_eye_leaf_spot created\n",
      "D:\\Kaggle Plant Path\\plants-training\\frog_eye_leaf_spot complex created\n",
      "D:\\Kaggle Plant Path\\plants-training\\healthy created\n",
      "D:\\Kaggle Plant Path\\plants-training\\powdery_mildew created\n",
      "D:\\Kaggle Plant Path\\plants-training\\powdery_mildew complex created\n",
      "D:\\Kaggle Plant Path\\plants-training\\rust complex created\n",
      "D:\\Kaggle Plant Path\\plants-training\\rust frog_eye_leaf_spot created\n",
      "D:\\Kaggle Plant Path\\plants-training\\scab created\n",
      "D:\\Kaggle Plant Path\\plants-training\\scab frog_eye_leaf_spot created\n",
      "D:\\Kaggle Plant Path\\plants-training\\scab frog_eye_leaf_spot complex created\n"
     ]
    }
   ],
   "source": [
    "#Create primary directory and necessary subdirectories\n",
    "train_dir = os.path.join(root,'plants-training')\n",
    "to_create = [train_dir]\n",
    "for label in labels: #creates list of all necessary subdirectories to make\n",
    "    to_create.append(os.path.join(train_dir,label))\n",
    "\n",
    "#loop to create directories using paths in the to_create list\n",
    "for directory in to_create:\n",
    "    try:\n",
    "        os.mkdir(directory)\n",
    "        print(directory, 'created')\n",
    "    except:\n",
    "        print(directory, 'creation failed')"
   ]
  },
  {
   "cell_type": "code",
   "execution_count": 5,
   "id": "enhanced-roller",
   "metadata": {},
   "outputs": [
    {
     "name": "stdout",
     "output_type": "stream",
     "text": [
      "D:\\Kaggle Plant Path\\plants-training\\frog_eye_leaf_spot\n"
     ]
    }
   ],
   "source": [
    "#Create alias variables for subdirectories for ease of reference\n",
    "var_list = ['cider_apple_rust', 'complx', 'frog_eye_leaf_spot', 'frog_eye_leaf_spot_complx', 'healthy', 'powdery_mildew', 'powdery_mildew_complx', 'rust_complx', 'rust_frog_eye_leaf_spot', 'scab', 'scab_frog_eye_leaf_spot', 'scab_frog_eye_leaf_spot_complx']\n",
    "class_dir = to_create[1:] #list that includes only subdirectory paths of the labels\n",
    "\n",
    "#this allows me to avoid the /f error when manually assigning the string of the path to variables (ex: \\\\frog_leaf would turn to \\x0rog_leaf)\n",
    "for (variable,subdir_path) in zip(var_list,class_dir):\n",
    "    exec(\"%s = %a\" % (variable, subdir_path))\n",
    "\n",
    "print(frog_eye_leaf_spot)"
   ]
  },
  {
   "cell_type": "code",
   "execution_count": 6,
   "id": "alternative-jason",
   "metadata": {},
   "outputs": [],
   "source": [
    "#loop over zip object of the file names and labels in train.csv and copy files to their respective subdirectories\n",
    "#files = list(df['image'])\n",
    "#y_train = list(df['labels'])\n",
    "\n",
    "images_dir = os.path.join(root,'train_images')\n",
    "\n",
    "'''\n",
    "for (file_name,label) in zip(files,y_train):\n",
    "    try:\n",
    "        if label == 'cider_apple_rust':\n",
    "            file_path = os.path.join(images_dir,file_name)\n",
    "            copy2(file_path, os.path.join(cider_apple_rust,file_name))\n",
    "        elif label == 'complex':\n",
    "            file_path = os.path.join(images_dir,file_name)\n",
    "            copy2(file_path, os.path.join(complx,file_name))\n",
    "        elif label == 'frog_eye_leaf_spot':\n",
    "            file_path = os.path.join(images_dir,file_name)\n",
    "            copy2(file_path, os.path.join(frog_eye_leaf_spot,file_name))\n",
    "        elif label == 'frog_eye_leaf_spot complex':\n",
    "            file_path = os.path.join(images_dir,file_name)\n",
    "            copy2(file_path, os.path.join(frog_eye_leaf_spot_complx,file_name))\n",
    "        elif label == 'healthy':\n",
    "            file_path = os.path.join(images_dir,file_name)\n",
    "            copy2(file_path, os.path.join(healthy,file_name))\n",
    "        elif label ==  'powdery_mildew':\n",
    "            file_path = os.path.join(images_dir,file_name)\n",
    "            copy2(file_path, os.path.join(powdery_mildew,file_name))\n",
    "        elif label == 'powdery_mildew complex':\n",
    "            file_path = os.path.join(images_dir,file_name)\n",
    "            copy2(file_path, os.path.join(powdery_mildew_complx,file_name))\n",
    "        elif label == 'rust complex':\n",
    "            file_path = os.path.join(images_dir,file_name)\n",
    "            copy2(file_path, os.path.join(rust_complx,file_name))\n",
    "        elif label == 'rust frog_eye_leaf_spot':\n",
    "            file_path = os.path.join(images_dir,file_name)\n",
    "            copy2(file_path,os.path.join(rust_frog_eye_leaf_spot,file_name))\n",
    "        elif label == 'scab':\n",
    "            file_path = os.path.join(images_dir,file_name)\n",
    "            copy2(file_path, os.path.join(scab,file_name))\n",
    "        elif label == 'scab frog_eye_leaf_spot':\n",
    "            file_path = os.path.join(images_dir,file_name)\n",
    "            copy2(file_path, os.path.join(scab_frog_eye_leaf_spot,file_name))\n",
    "        elif label == 'scab frog_eye_leaf_spot complex':\n",
    "            file_path = os.path.join(images_dir,file_name)\n",
    "            copy2(file_path, os.path.join(scab_frog_eye_leaf_spot_complx,file_name))\n",
    "        else:\n",
    "            print('yo what disease is this')\n",
    "    except:\n",
    "        print('failed to copy ', file_name, ' with label ', label)''';"
   ]
  },
  {
   "cell_type": "code",
   "execution_count": 7,
   "id": "cardiovascular-harvey",
   "metadata": {},
   "outputs": [
    {
     "name": "stdout",
     "output_type": "stream",
     "text": [
      "Found 18632 images belonging to 12 classes.\n"
     ]
    }
   ],
   "source": [
    "#Create ImageDataGenerators and apply image processing arguments (should find 12 classes)\n",
    "datagen = ImageDataGenerator(rescale = 1.0/255.,\n",
    "                                   rotation_range = 40,\n",
    "                                   width_shift_range = 0.2,\n",
    "                                   height_shift_range = 0.2,\n",
    "                                   shear_range = 0.2,\n",
    "                                   zoom_range = 0.2,\n",
    "                                   horizontal_flip = True,\n",
    "                                   fill_mode = 'nearest',\n",
    "                                   validation_split=0.25)\n",
    "                                   \n",
    "train_generator = datagen.flow_from_dataframe(dataframe=df,\n",
    "                                                    directory=images_dir,\n",
    "                                                    x_col='image',\n",
    "                                                    y_col='labels',\n",
    "                                                    subset='training',\n",
    "                                                    target_size = (200,200),\n",
    "                                                    batch_size = 1024,\n",
    "                                                    class_mode = 'sparse')\n",
    "validation_generator = datagen.flow_from_dataframe(dataframe=df,\n",
    "                                                    directory=images_dir,\n",
    "                                                    x_col='image',\n",
    "                                                    y_col='labels',\n",
    "                                                    subset='validation',\n",
    "                                                    target_size = (200,200),\n",
    "                                                    batch_size = 1024,\n",
    "                                                    class_mode = 'sparse')\n",
    "                                                   "
   ]
  },
  {
   "cell_type": "code",
   "execution_count": 8,
   "id": "disabled-narrative",
   "metadata": {},
   "outputs": [],
   "source": [
    "#Define and compile Model\n",
    "model = keras.models.Sequential([\n",
    "    keras.layers.Conv2D(64, (2,2), activation='relu', input_shape=(200,200,3)),\n",
    "    keras.layers.MaxPooling2D(2,2),\n",
    "    keras.layers.Conv2D(32, (2,2), activation='relu'),\n",
    "    keras.layers.MaxPooling2D(2,2),\n",
    "    keras.layers.Conv2D(32,(2,2), activation='relu'),\n",
    "    keras.layers.MaxPooling2D(2,2),\n",
    "    keras.layers.Flatten(),\n",
    "    keras.layers.Dense(1024,activation='relu'),\n",
    "    keras.layers.Dropout(0.20),\n",
    "    keras.layers.Dense(12,activation='softmax')\n",
    "])\n",
    "\n",
    "model.compile(optimizer = 'adam', \n",
    "             loss = 'sparse_categorical_crossentropy',\n",
    "             metrics = ['accuracy'])\n"
   ]
  },
  {
   "cell_type": "code",
   "execution_count": 9,
   "id": "occupied-latin",
   "metadata": {},
   "outputs": [
    {
     "name": "stdout",
     "output_type": "stream",
     "text": [
      "WARNING:tensorflow:sample_weight modes were coerced from\n",
      "  ...\n",
      "    to  \n",
      "  ['...']\n",
      "Train for 583 steps\n",
      "Epoch 1/10\n",
      "583/583 [==============================] - 3014s 5s/step - loss: 1.6756 - accuracy: 0.3782\n",
      "Epoch 2/10\n",
      "583/583 [==============================] - 2844s 5s/step - loss: 1.3765 - accuracy: 0.5205\n",
      "Epoch 3/10\n",
      "583/583 [==============================] - 2832s 5s/step - loss: 1.1986 - accuracy: 0.5756\n",
      "Epoch 4/10\n",
      "583/583 [==============================] - 2866s 5s/step - loss: 1.1056 - accuracy: 0.6103\n",
      "Epoch 5/10\n",
      "583/583 [==============================] - 2876s 5s/step - loss: 1.0508 - accuracy: 0.6262\n",
      "Epoch 6/10\n",
      "583/583 [==============================] - 2866s 5s/step - loss: 0.9973 - accuracy: 0.6467\n",
      "Epoch 7/10\n",
      "583/583 [==============================] - 2889s 5s/step - loss: 0.9479 - accuracy: 0.6666\n",
      "Epoch 8/10\n",
      "583/583 [==============================] - 2900s 5s/step - loss: 0.9176 - accuracy: 0.6838\n",
      "Epoch 9/10\n",
      "583/583 [==============================] - 2883s 5s/step - loss: 0.8855 - accuracy: 0.6926\n",
      "Epoch 10/10\n",
      "583/583 [==============================] - 2864s 5s/step - loss: 0.8610 - accuracy: 0.7036\n"
     ]
    }
   ],
   "source": [
    "#Train Model\n",
    "history = model.fit(train_generator, epochs = 10)\n",
    "model.save(root)\n",
    "\n"
   ]
  },
  {
   "cell_type": "code",
   "execution_count": 18,
   "id": "unexpected-chocolate",
   "metadata": {},
   "outputs": [
    {
     "data": {
      "text/plain": [
       "18632"
      ]
     },
     "execution_count": 18,
     "metadata": {},
     "output_type": "execute_result"
    }
   ],
   "source": [
    "#BONUS (for future ref): this is how you get the filenames taken by the generator\n",
    "train_files = train_generator.filenames\n",
    "len(train_files)"
   ]
  },
  {
   "cell_type": "code",
   "execution_count": 1,
   "id": "hydraulic-serum",
   "metadata": {},
   "outputs": [
    {
     "ename": "NameError",
     "evalue": "name 'os' is not defined",
     "output_type": "error",
     "traceback": [
      "\u001b[1;31m---------------------------------------------------------------------------\u001b[0m",
      "\u001b[1;31mNameError\u001b[0m                                 Traceback (most recent call last)",
      "\u001b[1;32m<ipython-input-1-bb7f8e3f0887>\u001b[0m in \u001b[0;36m<module>\u001b[1;34m\u001b[0m\n\u001b[0;32m      1\u001b[0m \u001b[1;31m#Predict test data\u001b[0m\u001b[1;33m\u001b[0m\u001b[1;33m\u001b[0m\u001b[1;33m\u001b[0m\u001b[0m\n\u001b[0;32m      2\u001b[0m \u001b[1;33m\u001b[0m\u001b[0m\n\u001b[1;32m----> 3\u001b[1;33m \u001b[0mtest_dir\u001b[0m \u001b[1;33m=\u001b[0m \u001b[0mos\u001b[0m\u001b[1;33m.\u001b[0m\u001b[0mpath\u001b[0m\u001b[1;33m.\u001b[0m\u001b[0mjoin\u001b[0m\u001b[1;33m(\u001b[0m\u001b[0mroot\u001b[0m\u001b[1;33m,\u001b[0m\u001b[1;34m'test_images'\u001b[0m\u001b[1;33m)\u001b[0m\u001b[1;33m\u001b[0m\u001b[1;33m\u001b[0m\u001b[0m\n\u001b[0m\u001b[0;32m      4\u001b[0m \u001b[1;33m\u001b[0m\u001b[0m\n\u001b[0;32m      5\u001b[0m \u001b[0mtest_datagen\u001b[0m \u001b[1;33m=\u001b[0m \u001b[0mImageDataGenerator\u001b[0m\u001b[1;33m(\u001b[0m\u001b[0mrescale\u001b[0m \u001b[1;33m=\u001b[0m \u001b[1;36m1.0\u001b[0m\u001b[1;33m/\u001b[0m\u001b[1;36m255\u001b[0m\u001b[1;33m)\u001b[0m\u001b[1;33m\u001b[0m\u001b[1;33m\u001b[0m\u001b[0m\n",
      "\u001b[1;31mNameError\u001b[0m: name 'os' is not defined"
     ]
    }
   ],
   "source": [
    "#Predict test data\n",
    "\n",
    "test_dir = os.path.join(root,'test_images')\n",
    "\n",
    "test_datagen = ImageDataGenerator(rescale = 1.0/255)\n",
    "\n",
    "target_prediction_steps = 1\n",
    "\n",
    "test_generator = test_datagen.flow_from_directory(test_dir,\n",
    "                                                    target_size = (200,200),\n",
    "                                                    batch_size = target_prediction_steps,\n",
    "                                                    class_mode = None)\n",
    "\n",
    "test_images = test_generator.filenames\n",
    "num_samples = len(test_images)\n",
    "\n",
    "predictions = model.predict_generator(test_generator, steps = num_samples)"
   ]
  },
  {
   "cell_type": "code",
   "execution_count": 30,
   "id": "solved-garlic",
   "metadata": {},
   "outputs": [
    {
     "data": {
      "text/plain": [
       "['cider_apple_rust',\n",
       " 'complex',\n",
       " 'frog_eye_leaf_spot',\n",
       " 'frog_eye_leaf_spot complex',\n",
       " 'healthy',\n",
       " 'powdery_mildew',\n",
       " 'powdery_mildew complex',\n",
       " 'rust complex',\n",
       " 'rust frog_eye_leaf_spot',\n",
       " 'scab',\n",
       " 'scab frog_eye_leaf_spot',\n",
       " 'scab frog_eye_leaf_spot complex']"
      ]
     },
     "execution_count": 30,
     "metadata": {},
     "output_type": "execute_result"
    }
   ],
   "source": [
    "classes = list(train_generator.class_indices.keys()) # gives us the list of classes in the correct order\n",
    "classes"
   ]
  },
  {
   "cell_type": "code",
   "execution_count": 31,
   "id": "objective-gateway",
   "metadata": {},
   "outputs": [
    {
     "data": {
      "text/plain": [
       "array([[2.6626281e-02, 1.9954607e-02, 8.9148444e-01, 6.5554137e-04,\n",
       "        4.4750533e-04, 8.3739767e-05, 8.8145580e-06, 1.9906288e-04,\n",
       "        3.6568358e-04, 7.3118336e-03, 5.2432224e-02, 4.3024326e-04],\n",
       "       [1.4376200e-05, 8.6144918e-01, 6.7066504e-03, 1.3258036e-02,\n",
       "        5.3348154e-10, 4.7600324e-07, 2.5440064e-05, 7.7601391e-05,\n",
       "        2.5769137e-04, 2.5566098e-05, 6.3134328e-02, 5.5050656e-02],\n",
       "       [2.6532483e-01, 7.5118601e-02, 7.1285730e-03, 1.4509725e-06,\n",
       "        3.8541593e-02, 2.2361324e-04, 2.4968728e-07, 9.7842112e-06,\n",
       "        6.3665706e-05, 6.1164045e-01, 1.9467230e-03, 4.2332761e-07]],\n",
       "      dtype=float32)"
      ]
     },
     "execution_count": 31,
     "metadata": {},
     "output_type": "execute_result"
    }
   ],
   "source": [
    "predictions"
   ]
  },
  {
   "cell_type": "code",
   "execution_count": 34,
   "id": "broad-domain",
   "metadata": {},
   "outputs": [
    {
     "data": {
      "text/plain": [
       "['frog_eye_leaf_spot', 'complex', 'scab']"
      ]
     },
     "execution_count": 34,
     "metadata": {},
     "output_type": "execute_result"
    }
   ],
   "source": [
    "#Let's return the respective labels instead of the probability values\n",
    "max_predictions = predictions.argmax(axis=1) #shape of (3,)\n",
    "\n",
    "label_predictions = [classes[predictions] for predictions in max_predictions]\n",
    "label_predictions"
   ]
  },
  {
   "cell_type": "code",
   "execution_count": 43,
   "id": "indirect-casting",
   "metadata": {},
   "outputs": [
    {
     "data": {
      "text/plain": [
       "array([['85f8cb619c66b863.jpg', 'frog_eye_leaf_spot'],\n",
       "       ['ad8770db05586b59.jpg', 'complex'],\n",
       "       ['c7b03e718489f3ca.jpg', 'scab']], dtype='<U20')"
      ]
     },
     "execution_count": 43,
     "metadata": {},
     "output_type": "execute_result"
    }
   ],
   "source": [
    "#Place image names and predicted labels in pd dataframe to convert to csv\n",
    "test_images = os.listdir(os.path.join(test_dir,'subdirectory'))\n",
    "pred_arr = np.c_[test_images,label_predictions]\n",
    "pred_arr"
   ]
  },
  {
   "cell_type": "code",
   "execution_count": 44,
   "id": "polyphonic-activity",
   "metadata": {},
   "outputs": [
    {
     "data": {
      "text/html": [
       "<div>\n",
       "<style scoped>\n",
       "    .dataframe tbody tr th:only-of-type {\n",
       "        vertical-align: middle;\n",
       "    }\n",
       "\n",
       "    .dataframe tbody tr th {\n",
       "        vertical-align: top;\n",
       "    }\n",
       "\n",
       "    .dataframe thead th {\n",
       "        text-align: right;\n",
       "    }\n",
       "</style>\n",
       "<table border=\"1\" class=\"dataframe\">\n",
       "  <thead>\n",
       "    <tr style=\"text-align: right;\">\n",
       "      <th></th>\n",
       "      <th>image</th>\n",
       "      <th>labels</th>\n",
       "    </tr>\n",
       "  </thead>\n",
       "  <tbody>\n",
       "    <tr>\n",
       "      <th>0</th>\n",
       "      <td>85f8cb619c66b863.jpg</td>\n",
       "      <td>frog_eye_leaf_spot</td>\n",
       "    </tr>\n",
       "    <tr>\n",
       "      <th>1</th>\n",
       "      <td>ad8770db05586b59.jpg</td>\n",
       "      <td>complex</td>\n",
       "    </tr>\n",
       "    <tr>\n",
       "      <th>2</th>\n",
       "      <td>c7b03e718489f3ca.jpg</td>\n",
       "      <td>scab</td>\n",
       "    </tr>\n",
       "  </tbody>\n",
       "</table>\n",
       "</div>"
      ],
      "text/plain": [
       "                  image              labels\n",
       "0  85f8cb619c66b863.jpg  frog_eye_leaf_spot\n",
       "1  ad8770db05586b59.jpg             complex\n",
       "2  c7b03e718489f3ca.jpg                scab"
      ]
     },
     "execution_count": 44,
     "metadata": {},
     "output_type": "execute_result"
    }
   ],
   "source": [
    "#convert array to datafram \n",
    "submission_df = pd.DataFrame(data = pred_arr,\n",
    "                            index = None,\n",
    "                             columns = ['image', 'labels'])\n",
    "submission_df                            "
   ]
  },
  {
   "cell_type": "code",
   "execution_count": 45,
   "id": "developed-groove",
   "metadata": {},
   "outputs": [],
   "source": [
    "submission_df.to_csv('Chummi_Apple_Leaves_v2.csv', index = False)"
   ]
  },
  {
   "cell_type": "code",
   "execution_count": 1,
   "id": "strange-township",
   "metadata": {},
   "outputs": [
    {
     "ename": "NameError",
     "evalue": "name 'model' is not defined",
     "output_type": "error",
     "traceback": [
      "\u001b[1;31m---------------------------------------------------------------------------\u001b[0m",
      "\u001b[1;31mNameError\u001b[0m                                 Traceback (most recent call last)",
      "\u001b[1;32m<ipython-input-1-d6ce434e3353>\u001b[0m in \u001b[0;36m<module>\u001b[1;34m\u001b[0m\n\u001b[1;32m----> 1\u001b[1;33m \u001b[0mmodel\u001b[0m\u001b[1;33m.\u001b[0m\u001b[0msave\u001b[0m\u001b[1;33m(\u001b[0m\u001b[1;34m'path/to/location'\u001b[0m\u001b[1;33m)\u001b[0m\u001b[1;33m\u001b[0m\u001b[1;33m\u001b[0m\u001b[0m\n\u001b[0m",
      "\u001b[1;31mNameError\u001b[0m: name 'model' is not defined"
     ]
    }
   ],
   "source": []
  },
  {
   "cell_type": "code",
   "execution_count": null,
   "id": "dependent-dominant",
   "metadata": {},
   "outputs": [],
   "source": []
  }
 ],
 "metadata": {
  "kernelspec": {
   "display_name": "tensorflow-gpu",
   "language": "python",
   "name": "tensorflow_gpu"
  },
  "language_info": {
   "codemirror_mode": {
    "name": "ipython",
    "version": 3
   },
   "file_extension": ".py",
   "mimetype": "text/x-python",
   "name": "python",
   "nbconvert_exporter": "python",
   "pygments_lexer": "ipython3",
   "version": "3.6.12"
  }
 },
 "nbformat": 4,
 "nbformat_minor": 5
}
